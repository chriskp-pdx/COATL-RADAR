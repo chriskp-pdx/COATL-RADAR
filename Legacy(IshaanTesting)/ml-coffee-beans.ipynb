{
 "cells": [
  {
   "cell_type": "code",
   "execution_count": 1,
   "metadata": {},
   "outputs": [
    {
     "name": "stdout",
     "output_type": "stream",
     "text": [
      "<HDF5 file \"greenbeans.h5\" (mode r)>\n",
      "├── algo\n",
      "│   ├── key (scalar)\n",
      "│   └── processor_config (scalar)\n",
      "├── client_info (scalar)\n",
      "├── generation (scalar)\n",
      "├── lib_version (scalar)\n",
      "├── server_info (scalar)\n",
      "├── session\n",
      "│   ├── calibrations\n",
      "│   │   └── sensor_1\n",
      "│   │       ├── data (scalar)\n",
      "│   │       ├── provided (scalar)\n",
      "│   │       └── temperature (scalar)\n",
      "│   ├── group_0\n",
      "│   │   └── entry_0\n",
      "│   │       ├── metadata (scalar)\n",
      "│   │       ├── result\n",
      "│   │       │   ├── calibration_needed (65763)\n",
      "│   │       │   ├── data_saturated (65763)\n",
      "│   │       │   ├── frame (65763)\n",
      "│   │       │   ├── frame_delayed (65763)\n",
      "│   │       │   ├── temperature (65763)\n",
      "│   │       │   └── tick (65763)\n",
      "│   │       └── sensor_id (scalar)\n",
      "│   └── session_config (scalar)\n",
      "├── sessions\n",
      "│   └── session_0\n",
      "│       ├── calibrations\n",
      "│       │   └── sensor_1\n",
      "│       │       ├── data (scalar)\n",
      "│       │       ├── provided (scalar)\n",
      "│       │       └── temperature (scalar)\n",
      "│       ├── group_0\n",
      "│       │   └── entry_0\n",
      "│       │       ├── metadata (scalar)\n",
      "│       │       ├── result\n",
      "│       │       │   ├── calibration_needed (65763)\n",
      "│       │       │   ├── data_saturated (65763)\n",
      "│       │       │   ├── frame (65763)\n",
      "│       │       │   ├── frame_delayed (65763)\n",
      "│       │       │   ├── temperature (65763)\n",
      "│       │       │   └── tick (65763)\n",
      "│       │       └── sensor_id (scalar)\n",
      "│       └── session_config (scalar)\n",
      "├── timestamp (scalar)\n",
      "└── uuid (scalar)\n"
     ]
    }
   ],
   "source": [
    "import h5py\n",
    "\n",
    "filename_hdf = 'greenbeans.h5'\n",
    "\n",
    "def h5_tree(val, pre=''):\n",
    "    items = len(val)\n",
    "    for key, val in val.items():\n",
    "        items -= 1\n",
    "        if items == 0:\n",
    "            # the last item\n",
    "            if type(val) == h5py._hl.group.Group:\n",
    "                print(pre + '└── ' + key)\n",
    "                h5_tree(val, pre+'    ')\n",
    "            else:\n",
    "                try:\n",
    "                    print(pre + '└── ' + key + ' (%d)' % len(val))\n",
    "                except TypeError:\n",
    "                    print(pre + '└── ' + key + ' (scalar)')\n",
    "        else:\n",
    "            if type(val) == h5py._hl.group.Group:\n",
    "                print(pre + '├── ' + key)\n",
    "                h5_tree(val, pre+'│   ')\n",
    "            else:\n",
    "                try:\n",
    "                    print(pre + '├── ' + key + ' (%d)' % len(val))\n",
    "                except TypeError:\n",
    "                    print(pre + '├── ' + key + ' (scalar)')\n",
    "\n",
    "with h5py.File(filename_hdf, 'r') as hf:\n",
    "    print(hf)\n",
    "    h5_tree(hf)"
   ]
  },
  {
   "cell_type": "code",
   "execution_count": 2,
   "metadata": {},
   "outputs": [
    {
     "name": "stdout",
     "output_type": "stream",
     "text": [
      "(65763, 1, 64)\n"
     ]
    }
   ],
   "source": [
    "import h5py\n",
    "import numpy as np\n",
    "\n",
    "def extract_tensor_from_h5(file_path, dataset_path):\n",
    "    \"\"\"\n",
    "    Extracts a tensor from an H5 file and checks for non-numerical data.\n",
    "\n",
    "    Parameters:\n",
    "    - file_path: str, path to the H5 file\n",
    "    - dataset_path: str, path to the dataset within the H5 file\n",
    "\n",
    "    Returns:\n",
    "    - tensor: numpy.ndarray, the extracted tensor if purely numerical\n",
    "    \"\"\"\n",
    "    with h5py.File(file_path, 'r') as h5file:\n",
    "        if dataset_path in h5file:\n",
    "            dataset = h5file[dataset_path]\n",
    "            tensor = np.array(dataset)\n",
    "\n",
    "            return tensor\n",
    "        else:\n",
    "            raise KeyError(f\"Dataset {dataset_path} not found in the file {file_path}\")\n",
    "\n",
    "\n",
    "# Example usage\n",
    "file_path = 'greenbeans.h5'\n",
    "dataset_path = 'session/group_0/entry_0/result/frame'\n",
    "tensor = extract_tensor_from_h5(file_path, dataset_path)\n",
    "\n",
    "# Print the shape of the tensor\n",
    "print(tensor.shape)\n"
   ]
  },
  {
   "cell_type": "code",
   "execution_count": 3,
   "metadata": {},
   "outputs": [],
   "source": [
    "import numpy as np\n",
    "\n",
    "def load_and_convert_tensor(file_path, dataset_path):\n",
    "    # Extract tensor from HDF5 file\n",
    "    tensor = extract_tensor_from_h5(file_path, dataset_path)\n",
    "\n",
    "    # Convert to complex number\n",
    "    complex_tensor = tensor['real'] + 1j * tensor['imag']\n",
    "\n",
    "    return complex_tensor\n",
    "\n",
    "# Load and convert tensors\n",
    "greenbeans_tensor = load_and_convert_tensor(\"greenbeans.h5\", dataset_path)\n",
    "ethopianbeans458tensor = load_and_convert_tensor(\"458ethopianroast.h5\", dataset_path)\n",
    "roastedbeans458tensor = load_and_convert_tensor(\"458roastedbeans.h5\", dataset_path)\n",
    "roastedbeans658tensor = load_and_convert_tensor(\"658roastedbeans.h5\", dataset_path)\n",
    "roastedbeans958tensor = load_and_convert_tensor(\"958roastedbeans.h5\", dataset_path)\n",
    "roastedbeans1158tensor = load_and_convert_tensor(\"1158roastedbeans.h5\", dataset_path)\n",
    "\n",
    "def preprocess_data(complex_tensor):\n",
    "    # Separate real and imaginary parts\n",
    "    real_part = complex_tensor.real.astype(np.float32)\n",
    "    imag_part = complex_tensor.imag.astype(np.float32)\n",
    "\n",
    "    # Combine into a single input array (concatenation along the last axis)\n",
    "    combined_input = np.concatenate([real_part, imag_part], axis=-1)\n",
    "\n",
    "    return combined_input\n",
    "\n",
    "# Process tensors\n",
    "greenbeans_input = preprocess_data(greenbeans_tensor)\n",
    "ethopianbeans458_input = preprocess_data(ethopianbeans458tensor)\n",
    "roastedbeans458_input = preprocess_data(roastedbeans458tensor)\n",
    "roastedbeans658_input = preprocess_data(roastedbeans658tensor)\n",
    "roastedbeans958_input = preprocess_data(roastedbeans958tensor)\n",
    "roastedbeans1158_input = preprocess_data(roastedbeans1158tensor)"
   ]
  },
  {
   "cell_type": "code",
   "execution_count": 5,
   "metadata": {},
   "outputs": [
    {
     "name": "stdout",
     "output_type": "stream",
     "text": [
      "Training data shape: (372812, 128)\n",
      "Testing data shape: (93204, 128)\n"
     ]
    },
    {
     "name": "stderr",
     "output_type": "stream",
     "text": [
      "WARNING: All log messages before absl::InitializeLog() is called are written to STDERR\n",
      "I0000 00:00:1722979997.915058   52892 cuda_executor.cc:1001] could not open file to read NUMA node: /sys/bus/pci/devices/0000:01:00.0/numa_node\n",
      "Your kernel may have been built without NUMA support.\n",
      "I0000 00:00:1722979997.947992   52892 cuda_executor.cc:1001] could not open file to read NUMA node: /sys/bus/pci/devices/0000:01:00.0/numa_node\n",
      "Your kernel may have been built without NUMA support.\n",
      "I0000 00:00:1722979997.948056   52892 cuda_executor.cc:1001] could not open file to read NUMA node: /sys/bus/pci/devices/0000:01:00.0/numa_node\n",
      "Your kernel may have been built without NUMA support.\n",
      "I0000 00:00:1722979997.950790   52892 cuda_executor.cc:1001] could not open file to read NUMA node: /sys/bus/pci/devices/0000:01:00.0/numa_node\n",
      "Your kernel may have been built without NUMA support.\n",
      "I0000 00:00:1722979997.950866   52892 cuda_executor.cc:1001] could not open file to read NUMA node: /sys/bus/pci/devices/0000:01:00.0/numa_node\n",
      "Your kernel may have been built without NUMA support.\n",
      "I0000 00:00:1722979997.950908   52892 cuda_executor.cc:1001] could not open file to read NUMA node: /sys/bus/pci/devices/0000:01:00.0/numa_node\n",
      "Your kernel may have been built without NUMA support.\n",
      "I0000 00:00:1722979998.168270   52892 cuda_executor.cc:1001] could not open file to read NUMA node: /sys/bus/pci/devices/0000:01:00.0/numa_node\n",
      "Your kernel may have been built without NUMA support.\n",
      "I0000 00:00:1722979998.168359   52892 cuda_executor.cc:1001] could not open file to read NUMA node: /sys/bus/pci/devices/0000:01:00.0/numa_node\n",
      "Your kernel may have been built without NUMA support.\n",
      "2024-08-06 14:33:18.168372: I tensorflow/core/common_runtime/gpu/gpu_device.cc:2112] Could not identify NUMA node of platform GPU id 0, defaulting to 0.  Your kernel may not have been built with NUMA support.\n",
      "I0000 00:00:1722979998.168432   52892 cuda_executor.cc:1001] could not open file to read NUMA node: /sys/bus/pci/devices/0000:01:00.0/numa_node\n",
      "Your kernel may have been built without NUMA support.\n",
      "2024-08-06 14:33:18.168459: I tensorflow/core/common_runtime/gpu/gpu_device.cc:2021] Created device /job:localhost/replica:0/task:0/device:GPU:0 with 9517 MB memory:  -> device: 0, name: NVIDIA GeForce RTX 4070 SUPER, pci bus id: 0000:01:00.0, compute capability: 8.9\n"
     ]
    },
    {
     "name": "stdout",
     "output_type": "stream",
     "text": [
      "Epoch 1/10\n"
     ]
    },
    {
     "name": "stderr",
     "output_type": "stream",
     "text": [
      "WARNING: All log messages before absl::InitializeLog() is called are written to STDERR\n",
      "I0000 00:00:1722979999.721609   53443 service.cc:146] XLA service 0x7f1a8800ab20 initialized for platform CUDA (this does not guarantee that XLA will be used). Devices:\n",
      "I0000 00:00:1722979999.721689   53443 service.cc:154]   StreamExecutor device (0): NVIDIA GeForce RTX 4070 SUPER, Compute Capability 8.9\n",
      "2024-08-06 14:33:19.745985: I tensorflow/compiler/mlir/tensorflow/utils/dump_mlir_util.cc:268] disabling MLIR crash reproducer, set env var `MLIR_CRASH_REPRODUCER_DIRECTORY` to enable.\n",
      "2024-08-06 14:33:19.892292: I external/local_xla/xla/stream_executor/cuda/cuda_dnn.cc:531] Loaded cuDNN version 8907\n"
     ]
    },
    {
     "name": "stdout",
     "output_type": "stream",
     "text": [
      "\u001b[1m  68/2913\u001b[0m \u001b[37m━━━━━━━━━━━━━━━━━━━━\u001b[0m \u001b[1m6s\u001b[0m 2ms/step - accuracy: 0.5401 - loss: 1030.1429  "
     ]
    },
    {
     "name": "stderr",
     "output_type": "stream",
     "text": [
      "I0000 00:00:1722980005.008887   53443 device_compiler.h:188] Compiled cluster using XLA!  This line is logged at most once for the lifetime of the process.\n"
     ]
    },
    {
     "name": "stdout",
     "output_type": "stream",
     "text": [
      "\u001b[1m2913/2913\u001b[0m \u001b[32m━━━━━━━━━━━━━━━━━━━━\u001b[0m\u001b[37m\u001b[0m \u001b[1m22s\u001b[0m 5ms/step - accuracy: 0.8835 - loss: 59.6091 - val_accuracy: 0.9167 - val_loss: 2.1246\n",
      "Epoch 2/10\n",
      "\u001b[1m2913/2913\u001b[0m \u001b[32m━━━━━━━━━━━━━━━━━━━━\u001b[0m\u001b[37m\u001b[0m \u001b[1m10s\u001b[0m 3ms/step - accuracy: 0.9343 - loss: 0.9446 - val_accuracy: 0.8820 - val_loss: 1.5364\n",
      "Epoch 3/10\n",
      "\u001b[1m2913/2913\u001b[0m \u001b[32m━━━━━━━━━━━━━━━━━━━━\u001b[0m\u001b[37m\u001b[0m \u001b[1m9s\u001b[0m 3ms/step - accuracy: 0.9307 - loss: 0.4439 - val_accuracy: 0.9348 - val_loss: 0.2427\n",
      "Epoch 4/10\n",
      "\u001b[1m2913/2913\u001b[0m \u001b[32m━━━━━━━━━━━━━━━━━━━━\u001b[0m\u001b[37m\u001b[0m \u001b[1m9s\u001b[0m 3ms/step - accuracy: 0.9380 - loss: 0.2016 - val_accuracy: 0.9361 - val_loss: 0.2125\n",
      "Epoch 5/10\n",
      "\u001b[1m2913/2913\u001b[0m \u001b[32m━━━━━━━━━━━━━━━━━━━━\u001b[0m\u001b[37m\u001b[0m \u001b[1m9s\u001b[0m 3ms/step - accuracy: 0.9442 - loss: 0.1636 - val_accuracy: 0.9242 - val_loss: 0.2425\n",
      "Epoch 6/10\n",
      "\u001b[1m2913/2913\u001b[0m \u001b[32m━━━━━━━━━━━━━━━━━━━━\u001b[0m\u001b[37m\u001b[0m \u001b[1m10s\u001b[0m 3ms/step - accuracy: 0.9471 - loss: 0.1557 - val_accuracy: 0.9594 - val_loss: 0.1133\n",
      "Epoch 7/10\n",
      "\u001b[1m2913/2913\u001b[0m \u001b[32m━━━━━━━━━━━━━━━━━━━━\u001b[0m\u001b[37m\u001b[0m \u001b[1m10s\u001b[0m 3ms/step - accuracy: 0.9490 - loss: 0.1507 - val_accuracy: 0.9586 - val_loss: 0.1167\n",
      "Epoch 8/10\n",
      "\u001b[1m2913/2913\u001b[0m \u001b[32m━━━━━━━━━━━━━━━━━━━━\u001b[0m\u001b[37m\u001b[0m \u001b[1m10s\u001b[0m 3ms/step - accuracy: 0.9551 - loss: 0.1279 - val_accuracy: 0.9579 - val_loss: 0.1148\n",
      "Epoch 9/10\n",
      "\u001b[1m2913/2913\u001b[0m \u001b[32m━━━━━━━━━━━━━━━━━━━━\u001b[0m\u001b[37m\u001b[0m \u001b[1m10s\u001b[0m 3ms/step - accuracy: 0.9567 - loss: 0.1217 - val_accuracy: 0.9613 - val_loss: 0.1059\n",
      "Epoch 10/10\n",
      "\u001b[1m2913/2913\u001b[0m \u001b[32m━━━━━━━━━━━━━━━━━━━━\u001b[0m\u001b[37m\u001b[0m \u001b[1m9s\u001b[0m 3ms/step - accuracy: 0.9598 - loss: 0.1124 - val_accuracy: 0.9635 - val_loss: 0.1032\n"
     ]
    },
    {
     "data": {
      "text/plain": [
       "<keras.src.callbacks.history.History at 0x7f1b3c9dbb20>"
      ]
     },
     "execution_count": 5,
     "metadata": {},
     "output_type": "execute_result"
    }
   ],
   "source": [
    "import tensorflow as tf\n",
    "from keras.models import Sequential\n",
    "from keras.layers import Dense, Flatten, Input\n",
    "from sklearn.model_selection import train_test_split\n",
    "\n",
    "# Create labels\n",
    "greenbeans_labels = np.zeros(greenbeans_input.shape[0], dtype=np.int32)  # Class 0\n",
    "ethopianbeans458_labels = np.ones(ethopianbeans458_input.shape[0], dtype=np.int32) # Class 1\n",
    "roastedbeans458_labels = np.full(roastedbeans458_input.shape[0], 2, dtype=np.int32)  # Class 2\n",
    "roastedbeans658_labels = np.full(roastedbeans658_input.shape[0], 3, dtype=np.int32) # Class 3\n",
    "roastedbeans958_labels = np.full(roastedbeans958_input.shape[0], 4, dtype=np.int32) # Class 4\n",
    "roastedbeans1158_labels = np.full(roastedbeans1158_input.shape[0], 5, dtype=np.int32)  # Class 5\n",
    "\n",
    "def squeeze_data(data):\n",
    "    # Remove dimensions of size 1\n",
    "    return np.squeeze(data, axis=1)\n",
    "\n",
    "# Apply squeezing to each tensor\n",
    "greenbeans_input = squeeze_data(greenbeans_input)\n",
    "ethopianbeans458_input = squeeze_data(ethopianbeans458_input)\n",
    "roastedbeans458_input = squeeze_data(roastedbeans458_input)\n",
    "roastedbeans658_input = squeeze_data(roastedbeans658_input)\n",
    "roastedbeans958_input = squeeze_data(roastedbeans958_input)\n",
    "roastedbeans1158_input = squeeze_data(roastedbeans1158_input)\n",
    "\n",
    "# Combine the squeezed data\n",
    "all_inputs = np.concatenate([greenbeans_input, ethopianbeans458_input, roastedbeans458_input, roastedbeans658_input, roastedbeans958_input, roastedbeans1158_input], axis=0)\n",
    "all_labels = np.concatenate([greenbeans_labels, ethopianbeans458_labels, roastedbeans458_labels, roastedbeans658_labels, roastedbeans958_labels, roastedbeans1158_labels], axis=0)\n",
    "\n",
    "# Split into training and testing sets\n",
    "X_train, X_test, y_train, y_test = train_test_split(all_inputs, all_labels, test_size=0.2, random_state=42)\n",
    "\n",
    "print(f\"Training data shape: {X_train.shape}\")\n",
    "print(f\"Testing data shape: {X_test.shape}\")\n",
    "\n",
    "# Define the Keras model\n",
    "input_shape = (64 * 2,)  # Assuming real and imaginary parts are concatenated\n",
    "model = Sequential([\n",
    "    Input(shape=input_shape),\n",
    "    Dense(128, activation='relu'),\n",
    "    Dense(64, activation='relu'),\n",
    "    Dense(64, activation='relu'),\n",
    "    Dense(6, activation='softmax')  # don't forget to change this to the number of classes\n",
    "])\n",
    "\n",
    "model.compile(optimizer='adam', loss='sparse_categorical_crossentropy', metrics=['accuracy'])\n",
    "\n",
    "# Train the model\n",
    "model.fit(X_train, y_train, epochs=10, batch_size=128, validation_data=(X_test, y_test))"
   ]
  },
  {
   "cell_type": "code",
   "execution_count": 6,
   "metadata": {},
   "outputs": [
    {
     "name": "stdout",
     "output_type": "stream",
     "text": [
      "\u001b[1m2913/2913\u001b[0m \u001b[32m━━━━━━━━━━━━━━━━━━━━\u001b[0m\u001b[37m\u001b[0m \u001b[1m6s\u001b[0m 2ms/step\n"
     ]
    },
    {
     "data": {
      "image/png": "[encoded data removed]",
      "text/plain": [
       "<Figure size 720x504 with 2 Axes>"
      ]
     },
     "metadata": {
      "needs_background": "light"
     },
     "output_type": "display_data"
    }
   ],
   "source": [
    "from sklearn.metrics import confusion_matrix\n",
    "import matplotlib.pyplot as plt\n",
    "import seaborn as sns\n",
    "\n",
    "# Make predictions on the test set\n",
    "y_pred = np.argmax(model.predict(X_test), axis=-1)\n",
    "\n",
    "# Compute confusion matrix\n",
    "cm = confusion_matrix(y_test, y_pred)\n",
    "\n",
    "def plot_confusion_matrix(cm, class_names):\n",
    "    plt.figure(figsize=(10, 7))\n",
    "    sns.heatmap(cm, annot=True, fmt='d', cmap='Blues', xticklabels=class_names, yticklabels=class_names)\n",
    "    plt.xlabel('Predicted Label')\n",
    "    plt.ylabel('True Label')\n",
    "    plt.title('Confusion Matrix')\n",
    "    plt.show()\n",
    "\n",
    "# Define class names based on your dataset\n",
    "class_names = ['Green Beans', 'Ethopian Beans 458', 'Roasted Beans 458', 'Roasted Beans 658', 'Roasted Beans 958', 'Roasted Beans 1158']\n",
    "\n",
    "# Plot confusion matrix\n",
    "plot_confusion_matrix(cm, class_names)"
   ]
  },
  {
   "cell_type": "code",
   "execution_count": 7,
   "metadata": {},
   "outputs": [],
   "source": [
    "model.save(\"classifier_coffee_2.keras\")"
   ]
  },
  {
   "cell_type": "code",
   "execution_count": null,
   "metadata": {},
   "outputs": [
    {
     "ename": "FileNotFoundError",
     "evalue": "[Errno 2] Unable to synchronously open file (unable to open file: name = 'test.h5', errno = 2, error message = 'No such file or directory', flags = 0, o_flags = 0)",
     "output_type": "error",
     "traceback": [
      "\u001b[0;31m---------------------------------------------------------------------------\u001b[0m",
      "\u001b[0;31mFileNotFoundError\u001b[0m                         Traceback (most recent call last)",
      "\u001b[0;32m/tmp/ipykernel_20605/684439016.py\u001b[0m in \u001b[0;36m<module>\u001b[0;34m\u001b[0m\n\u001b[1;32m     19\u001b[0m \u001b[0;34m\u001b[0m\u001b[0m\n\u001b[1;32m     20\u001b[0m \u001b[0;31m# Load and preprocess new data\u001b[0m\u001b[0;34m\u001b[0m\u001b[0;34m\u001b[0m\u001b[0m\n\u001b[0;32m---> 21\u001b[0;31m \u001b[0mnew_data_tensor\u001b[0m \u001b[0;34m=\u001b[0m \u001b[0mload_and_convert_tensor\u001b[0m\u001b[0;34m(\u001b[0m\u001b[0;34m\"test.h5\"\u001b[0m\u001b[0;34m,\u001b[0m \u001b[0mdataset_path\u001b[0m\u001b[0;34m)\u001b[0m\u001b[0;34m\u001b[0m\u001b[0;34m\u001b[0m\u001b[0m\n\u001b[0m\u001b[1;32m     22\u001b[0m \u001b[0mnew_data_input\u001b[0m \u001b[0;34m=\u001b[0m \u001b[0mpreprocess_data\u001b[0m\u001b[0;34m(\u001b[0m\u001b[0mnew_data_tensor\u001b[0m\u001b[0;34m)\u001b[0m\u001b[0;34m\u001b[0m\u001b[0;34m\u001b[0m\u001b[0m\n\u001b[1;32m     23\u001b[0m \u001b[0mnew_data_input\u001b[0m \u001b[0;34m=\u001b[0m \u001b[0mreshape_data\u001b[0m\u001b[0;34m(\u001b[0m\u001b[0mnew_data_input\u001b[0m\u001b[0;34m)\u001b[0m\u001b[0;34m\u001b[0m\u001b[0;34m\u001b[0m\u001b[0m\n",
      "\u001b[0;32m/tmp/ipykernel_20605/684439016.py\u001b[0m in \u001b[0;36mload_and_convert_tensor\u001b[0;34m(file_path, dataset_path)\u001b[0m\n\u001b[1;32m     11\u001b[0m \u001b[0;34m\u001b[0m\u001b[0m\n\u001b[1;32m     12\u001b[0m \u001b[0;32mdef\u001b[0m \u001b[0mload_and_convert_tensor\u001b[0m\u001b[0;34m(\u001b[0m\u001b[0mfile_path\u001b[0m\u001b[0;34m,\u001b[0m \u001b[0mdataset_path\u001b[0m\u001b[0;34m)\u001b[0m\u001b[0;34m:\u001b[0m\u001b[0;34m\u001b[0m\u001b[0;34m\u001b[0m\u001b[0m\n\u001b[0;32m---> 13\u001b[0;31m     \u001b[0mtensor\u001b[0m \u001b[0;34m=\u001b[0m \u001b[0mextract_tensor_from_h5\u001b[0m\u001b[0;34m(\u001b[0m\u001b[0mfile_path\u001b[0m\u001b[0;34m,\u001b[0m \u001b[0mdataset_path\u001b[0m\u001b[0;34m)\u001b[0m\u001b[0;34m\u001b[0m\u001b[0;34m\u001b[0m\u001b[0m\n\u001b[0m\u001b[1;32m     14\u001b[0m     \u001b[0mcomplex_tensor\u001b[0m \u001b[0;34m=\u001b[0m \u001b[0mtensor\u001b[0m\u001b[0;34m[\u001b[0m\u001b[0;34m'real'\u001b[0m\u001b[0;34m]\u001b[0m \u001b[0;34m+\u001b[0m \u001b[0;36m1j\u001b[0m \u001b[0;34m*\u001b[0m \u001b[0mtensor\u001b[0m\u001b[0;34m[\u001b[0m\u001b[0;34m'imag'\u001b[0m\u001b[0;34m]\u001b[0m\u001b[0;34m\u001b[0m\u001b[0;34m\u001b[0m\u001b[0m\n\u001b[1;32m     15\u001b[0m     \u001b[0;32mreturn\u001b[0m \u001b[0mcomplex_tensor\u001b[0m\u001b[0;34m\u001b[0m\u001b[0;34m\u001b[0m\u001b[0m\n",
      "\u001b[0;32m/tmp/ipykernel_20605/1650468057.py\u001b[0m in \u001b[0;36mextract_tensor_from_h5\u001b[0;34m(file_path, dataset_path)\u001b[0m\n\u001b[1;32m     13\u001b[0m     \u001b[0;34m-\u001b[0m \u001b[0mtensor\u001b[0m\u001b[0;34m:\u001b[0m \u001b[0mnumpy\u001b[0m\u001b[0;34m.\u001b[0m\u001b[0mndarray\u001b[0m\u001b[0;34m,\u001b[0m \u001b[0mthe\u001b[0m \u001b[0mextracted\u001b[0m \u001b[0mtensor\u001b[0m \u001b[0;32mif\u001b[0m \u001b[0mpurely\u001b[0m \u001b[0mnumerical\u001b[0m\u001b[0;34m\u001b[0m\u001b[0;34m\u001b[0m\u001b[0m\n\u001b[1;32m     14\u001b[0m     \"\"\"\n\u001b[0;32m---> 15\u001b[0;31m     \u001b[0;32mwith\u001b[0m \u001b[0mh5py\u001b[0m\u001b[0;34m.\u001b[0m\u001b[0mFile\u001b[0m\u001b[0;34m(\u001b[0m\u001b[0mfile_path\u001b[0m\u001b[0;34m,\u001b[0m \u001b[0;34m'r'\u001b[0m\u001b[0;34m)\u001b[0m \u001b[0;32mas\u001b[0m \u001b[0mh5file\u001b[0m\u001b[0;34m:\u001b[0m\u001b[0;34m\u001b[0m\u001b[0;34m\u001b[0m\u001b[0m\n\u001b[0m\u001b[1;32m     16\u001b[0m         \u001b[0;32mif\u001b[0m \u001b[0mdataset_path\u001b[0m \u001b[0;32min\u001b[0m \u001b[0mh5file\u001b[0m\u001b[0;34m:\u001b[0m\u001b[0;34m\u001b[0m\u001b[0;34m\u001b[0m\u001b[0m\n\u001b[1;32m     17\u001b[0m             \u001b[0mdataset\u001b[0m \u001b[0;34m=\u001b[0m \u001b[0mh5file\u001b[0m\u001b[0;34m[\u001b[0m\u001b[0mdataset_path\u001b[0m\u001b[0;34m]\u001b[0m\u001b[0;34m\u001b[0m\u001b[0;34m\u001b[0m\u001b[0m\n",
      "\u001b[0;32m~/.local/lib/python3.10/site-packages/h5py/_hl/files.py\u001b[0m in \u001b[0;36m__init__\u001b[0;34m(self, name, mode, driver, libver, userblock_size, swmr, rdcc_nslots, rdcc_nbytes, rdcc_w0, track_order, fs_strategy, fs_persist, fs_threshold, fs_page_size, page_buf_size, min_meta_keep, min_raw_keep, locking, alignment_threshold, alignment_interval, meta_block_size, **kwds)\u001b[0m\n\u001b[1;32m    560\u001b[0m                                  \u001b[0mfs_persist\u001b[0m\u001b[0;34m=\u001b[0m\u001b[0mfs_persist\u001b[0m\u001b[0;34m,\u001b[0m \u001b[0mfs_threshold\u001b[0m\u001b[0;34m=\u001b[0m\u001b[0mfs_threshold\u001b[0m\u001b[0;34m,\u001b[0m\u001b[0;34m\u001b[0m\u001b[0;34m\u001b[0m\u001b[0m\n\u001b[1;32m    561\u001b[0m                                  fs_page_size=fs_page_size)\n\u001b[0;32m--> 562\u001b[0;31m                 \u001b[0mfid\u001b[0m \u001b[0;34m=\u001b[0m \u001b[0mmake_fid\u001b[0m\u001b[0;34m(\u001b[0m\u001b[0mname\u001b[0m\u001b[0;34m,\u001b[0m \u001b[0mmode\u001b[0m\u001b[0;34m,\u001b[0m \u001b[0muserblock_size\u001b[0m\u001b[0;34m,\u001b[0m \u001b[0mfapl\u001b[0m\u001b[0;34m,\u001b[0m \u001b[0mfcpl\u001b[0m\u001b[0;34m,\u001b[0m \u001b[0mswmr\u001b[0m\u001b[0;34m=\u001b[0m\u001b[0mswmr\u001b[0m\u001b[0;34m)\u001b[0m\u001b[0;34m\u001b[0m\u001b[0;34m\u001b[0m\u001b[0m\n\u001b[0m\u001b[1;32m    563\u001b[0m \u001b[0;34m\u001b[0m\u001b[0m\n\u001b[1;32m    564\u001b[0m             \u001b[0;32mif\u001b[0m \u001b[0misinstance\u001b[0m\u001b[0;34m(\u001b[0m\u001b[0mlibver\u001b[0m\u001b[0;34m,\u001b[0m \u001b[0mtuple\u001b[0m\u001b[0;34m)\u001b[0m\u001b[0;34m:\u001b[0m\u001b[0;34m\u001b[0m\u001b[0;34m\u001b[0m\u001b[0m\n",
      "\u001b[0;32m~/.local/lib/python3.10/site-packages/h5py/_hl/files.py\u001b[0m in \u001b[0;36mmake_fid\u001b[0;34m(name, mode, userblock_size, fapl, fcpl, swmr)\u001b[0m\n\u001b[1;32m    233\u001b[0m         \u001b[0;32mif\u001b[0m \u001b[0mswmr\u001b[0m \u001b[0;32mand\u001b[0m \u001b[0mswmr_support\u001b[0m\u001b[0;34m:\u001b[0m\u001b[0;34m\u001b[0m\u001b[0;34m\u001b[0m\u001b[0m\n\u001b[1;32m    234\u001b[0m             \u001b[0mflags\u001b[0m \u001b[0;34m|=\u001b[0m \u001b[0mh5f\u001b[0m\u001b[0;34m.\u001b[0m\u001b[0mACC_SWMR_READ\u001b[0m\u001b[0;34m\u001b[0m\u001b[0;34m\u001b[0m\u001b[0m\n\u001b[0;32m--> 235\u001b[0;31m         \u001b[0mfid\u001b[0m \u001b[0;34m=\u001b[0m \u001b[0mh5f\u001b[0m\u001b[0;34m.\u001b[0m\u001b[0mopen\u001b[0m\u001b[0;34m(\u001b[0m\u001b[0mname\u001b[0m\u001b[0;34m,\u001b[0m \u001b[0mflags\u001b[0m\u001b[0;34m,\u001b[0m \u001b[0mfapl\u001b[0m\u001b[0;34m=\u001b[0m\u001b[0mfapl\u001b[0m\u001b[0;34m)\u001b[0m\u001b[0;34m\u001b[0m\u001b[0;34m\u001b[0m\u001b[0m\n\u001b[0m\u001b[1;32m    236\u001b[0m     \u001b[0;32melif\u001b[0m \u001b[0mmode\u001b[0m \u001b[0;34m==\u001b[0m \u001b[0;34m'r+'\u001b[0m\u001b[0;34m:\u001b[0m\u001b[0;34m\u001b[0m\u001b[0;34m\u001b[0m\u001b[0m\n\u001b[1;32m    237\u001b[0m         \u001b[0mfid\u001b[0m \u001b[0;34m=\u001b[0m \u001b[0mh5f\u001b[0m\u001b[0;34m.\u001b[0m\u001b[0mopen\u001b[0m\u001b[0;34m(\u001b[0m\u001b[0mname\u001b[0m\u001b[0;34m,\u001b[0m \u001b[0mh5f\u001b[0m\u001b[0;34m.\u001b[0m\u001b[0mACC_RDWR\u001b[0m\u001b[0;34m,\u001b[0m \u001b[0mfapl\u001b[0m\u001b[0;34m=\u001b[0m\u001b[0mfapl\u001b[0m\u001b[0;34m)\u001b[0m\u001b[0;34m\u001b[0m\u001b[0;34m\u001b[0m\u001b[0m\n",
      "\u001b[0;32mh5py/_objects.pyx\u001b[0m in \u001b[0;36mh5py._objects.with_phil.wrapper\u001b[0;34m()\u001b[0m\n",
      "\u001b[0;32mh5py/_objects.pyx\u001b[0m in \u001b[0;36mh5py._objects.with_phil.wrapper\u001b[0;34m()\u001b[0m\n",
      "\u001b[0;32mh5py/h5f.pyx\u001b[0m in \u001b[0;36mh5py.h5f.open\u001b[0;34m()\u001b[0m\n",
      "\u001b[0;31mFileNotFoundError\u001b[0m: [Errno 2] Unable to synchronously open file (unable to open file: name = 'test.h5', errno = 2, error message = 'No such file or directory', flags = 0, o_flags = 0)"
     ]
    }
   ],
   "source": [
    "# import numpy as np\n",
    "# import tensorflow as tf\n",
    "# from keras.models import load_model\n",
    "\n",
    "# # Define preprocessing functions\n",
    "# def preprocess_data(complex_tensor):\n",
    "#     real_part = complex_tensor.real.astype(np.float32)\n",
    "#     imag_part = complex_tensor.imag.astype(np.float32)\n",
    "#     combined_input = np.concatenate([real_part, imag_part], axis=-1)\n",
    "#     return combined_input\n",
    "\n",
    "# def load_and_convert_tensor(file_path, dataset_path):\n",
    "#     tensor = extract_tensor_from_h5(file_path, dataset_path)\n",
    "#     complex_tensor = tensor['real'] + 1j * tensor['imag']\n",
    "#     return complex_tensor\n",
    "\n",
    "# def reshape_data(data):\n",
    "#     return data.reshape(data.shape[0], -1)\n",
    "\n",
    "# # Load and preprocess new data\n",
    "# new_data_tensor = load_and_convert_tensor(\"test.h5\", dataset_path)\n",
    "# new_data_input = preprocess_data(new_data_tensor)\n",
    "# new_data_input = reshape_data(new_data_input)\n",
    "\n",
    "# # Load the saved model\n",
    "# model = load_model('model.h5')\n",
    "# print(\"Model loaded from 'model.h5'\")\n",
    "\n",
    "# # Make predictions\n",
    "# predictions = model.predict(new_data_input)\n",
    "# predicted_classes = np.argmax(predictions, axis=-1)\n",
    "\n",
    "# # Print predictions\n",
    "# print(\"Predicted classes:\", predicted_classes)\n"
   ]
  }
 ],
 "metadata": {
  "kernelspec": {
   "display_name": "Python 3",
   "language": "python",
   "name": "python3"
  },
  "language_info": {
   "codemirror_mode": {
    "name": "ipython",
    "version": 3
   },
   "file_extension": ".py",
   "mimetype": "text/x-python",
   "name": "python",
   "nbconvert_exporter": "python",
   "pygments_lexer": "ipython3",
   "version": "3.10.12"
  }
 },
 "nbformat": 4,
 "nbformat_minor": 2
}
