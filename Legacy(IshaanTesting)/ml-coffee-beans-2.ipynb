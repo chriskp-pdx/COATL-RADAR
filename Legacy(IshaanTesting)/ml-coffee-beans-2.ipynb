{
 "cells": [
  {
   "cell_type": "code",
   "execution_count": 1,
   "metadata": {},
   "outputs": [
    {
     "name": "stdout",
     "output_type": "stream",
     "text": [
      "<HDF5 file \"greenbeans.h5\" (mode r)>\n",
      "├── algo\n",
      "│   ├── key (scalar)\n",
      "│   └── processor_config (scalar)\n",
      "├── client_info (scalar)\n",
      "├── generation (scalar)\n",
      "├── lib_version (scalar)\n",
      "├── server_info (scalar)\n",
      "├── session\n",
      "│   ├── calibrations\n",
      "│   │   └── sensor_1\n",
      "│   │       ├── data (scalar)\n",
      "│   │       ├── provided (scalar)\n",
      "│   │       └── temperature (scalar)\n",
      "│   ├── group_0\n",
      "│   │   └── entry_0\n",
      "│   │       ├── metadata (scalar)\n",
      "│   │       ├── result\n",
      "│   │       │   ├── calibration_needed (65763)\n",
      "│   │       │   ├── data_saturated (65763)\n",
      "│   │       │   ├── frame (65763)\n",
      "│   │       │   ├── frame_delayed (65763)\n",
      "│   │       │   ├── temperature (65763)\n",
      "│   │       │   └── tick (65763)\n",
      "│   │       └── sensor_id (scalar)\n",
      "│   └── session_config (scalar)\n",
      "├── sessions\n",
      "│   └── session_0\n",
      "│       ├── calibrations\n",
      "│       │   └── sensor_1\n",
      "│       │       ├── data (scalar)\n",
      "│       │       ├── provided (scalar)\n",
      "│       │       └── temperature (scalar)\n",
      "│       ├── group_0\n",
      "│       │   └── entry_0\n",
      "│       │       ├── metadata (scalar)\n",
      "│       │       ├── result\n",
      "│       │       │   ├── calibration_needed (65763)\n",
      "│       │       │   ├── data_saturated (65763)\n",
      "│       │       │   ├── frame (65763)\n",
      "│       │       │   ├── frame_delayed (65763)\n",
      "│       │       │   ├── temperature (65763)\n",
      "│       │       │   └── tick (65763)\n",
      "│       │       └── sensor_id (scalar)\n",
      "│       └── session_config (scalar)\n",
      "├── timestamp (scalar)\n",
      "└── uuid (scalar)\n"
     ]
    }
   ],
   "source": [
    "import h5py\n",
    "\n",
    "filename_hdf = 'greenbeans.h5'\n",
    "\n",
    "def h5_tree(val, pre=''):\n",
    "    items = len(val)\n",
    "    for key, val in val.items():\n",
    "        items -= 1\n",
    "        if items == 0:\n",
    "            # the last item\n",
    "            if type(val) == h5py._hl.group.Group:\n",
    "                print(pre + '└── ' + key)\n",
    "                h5_tree(val, pre+'    ')\n",
    "            else:\n",
    "                try:\n",
    "                    print(pre + '└── ' + key + ' (%d)' % len(val))\n",
    "                except TypeError:\n",
    "                    print(pre + '└── ' + key + ' (scalar)')\n",
    "        else:\n",
    "            if type(val) == h5py._hl.group.Group:\n",
    "                print(pre + '├── ' + key)\n",
    "                h5_tree(val, pre+'│   ')\n",
    "            else:\n",
    "                try:\n",
    "                    print(pre + '├── ' + key + ' (%d)' % len(val))\n",
    "                except TypeError:\n",
    "                    print(pre + '├── ' + key + ' (scalar)')\n",
    "\n",
    "with h5py.File(filename_hdf, 'r') as hf:\n",
    "    print(hf)\n",
    "    h5_tree(hf)"
   ]
  },
  {
   "cell_type": "code",
   "execution_count": 2,
   "metadata": {},
   "outputs": [
    {
     "name": "stdout",
     "output_type": "stream",
     "text": [
      "(65763, 1, 64)\n"
     ]
    }
   ],
   "source": [
    "import h5py\n",
    "import numpy as np\n",
    "\n",
    "def extract_tensor_from_h5(file_path, dataset_path):\n",
    "    \"\"\"\n",
    "    Extracts a tensor from an H5 file and checks for non-numerical data.\n",
    "\n",
    "    Parameters:\n",
    "    - file_path: str, path to the H5 file\n",
    "    - dataset_path: str, path to the dataset within the H5 file\n",
    "\n",
    "    Returns:\n",
    "    - tensor: numpy.ndarray, the extracted tensor if purely numerical\n",
    "    \"\"\"\n",
    "    with h5py.File(file_path, 'r') as h5file:\n",
    "        if dataset_path in h5file:\n",
    "            dataset = h5file[dataset_path]\n",
    "            tensor = np.array(dataset)\n",
    "\n",
    "            return tensor\n",
    "        else:\n",
    "            raise KeyError(f\"Dataset {dataset_path} not found in the file {file_path}\")\n",
    "\n",
    "\n",
    "# Example usage\n",
    "file_path = 'greenbeans.h5'\n",
    "dataset_path = 'session/group_0/entry_0/result/frame'\n",
    "tensor = extract_tensor_from_h5(file_path, dataset_path)\n",
    "\n",
    "# Print the shape of the tensor\n",
    "print(tensor.shape)\n"
   ]
  },
  {
   "cell_type": "code",
   "execution_count": 3,
   "metadata": {},
   "outputs": [],
   "source": [
    "import numpy as np\n",
    "\n",
    "def load_and_convert_tensor(file_path, dataset_path):\n",
    "    # Extract tensor from HDF5 file\n",
    "    tensor = extract_tensor_from_h5(file_path, dataset_path)\n",
    "\n",
    "    # Convert to complex number\n",
    "    complex_tensor = tensor['real'] + 1j * tensor['imag']\n",
    "\n",
    "    return complex_tensor\n",
    "\n",
    "# Load and convert tensors\n",
    "colombian458tensor = load_and_convert_tensor(\"colombia458.h5\", dataset_path)\n",
    "kenya458tensor = load_and_convert_tensor(\"kenya458.h5\", dataset_path)\n",
    "peru458tensor = load_and_convert_tensor(\"peru458.h5\", dataset_path)\n",
    "sumatra458tensor = load_and_convert_tensor(\"sumatra458.h5\", dataset_path)\n",
    "tabi458tensor = load_and_convert_tensor(\"tabilaroca458.h5\", dataset_path)\n",
    "roasted458tensor = load_and_convert_tensor(\"458roastedbeans.h5\", dataset_path)\n",
    "\n",
    "# def preprocess_data(complex_tensor):\n",
    "#     # Separate real and imaginary parts\n",
    "#     real_part = complex_tensor.real.astype(np.float32)\n",
    "#     imag_part = complex_tensor.imag.astype(np.float32)\n",
    "\n",
    "#     # Combine into a single input array (concatenation along the last axis)\n",
    "#     combined_input = np.concatenate([real_part, imag_part], axis=-1)\n",
    "\n",
    "#     return combined_input\n",
    "\n",
    "def preprocess_data(complex_tensor):\n",
    "    # Compute magnitude and phase\n",
    "    magnitude = np.abs(complex_tensor).astype(np.float32)\n",
    "    phase = np.angle(complex_tensor).astype(np.float32)\n",
    "\n",
    "    # Combine into a single input array (concatenation along the last axis)\n",
    "    combined_input = np.concatenate([magnitude, phase], axis=-1)\n",
    "\n",
    "    return combined_input\n",
    "\n",
    "colombian_input = preprocess_data(colombian458tensor)\n",
    "kenya_input = preprocess_data(kenya458tensor)\n",
    "peru_input = preprocess_data(peru458tensor)\n",
    "sumatra_input = preprocess_data(sumatra458tensor)\n",
    "tabi_input = preprocess_data(tabi458tensor)\n",
    "roasted_input = preprocess_data(roasted458tensor)"
   ]
  },
  {
   "cell_type": "code",
   "execution_count": 4,
   "metadata": {},
   "outputs": [
    {
     "name": "stderr",
     "output_type": "stream",
     "text": [
      "2024-08-08 16:42:41.025084: E external/local_xla/xla/stream_executor/cuda/cuda_fft.cc:485] Unable to register cuFFT factory: Attempting to register factory for plugin cuFFT when one has already been registered\n",
      "2024-08-08 16:42:41.039155: E external/local_xla/xla/stream_executor/cuda/cuda_dnn.cc:8454] Unable to register cuDNN factory: Attempting to register factory for plugin cuDNN when one has already been registered\n",
      "2024-08-08 16:42:41.042723: E external/local_xla/xla/stream_executor/cuda/cuda_blas.cc:1452] Unable to register cuBLAS factory: Attempting to register factory for plugin cuBLAS when one has already been registered\n",
      "2024-08-08 16:42:41.053510: I tensorflow/core/platform/cpu_feature_guard.cc:210] This TensorFlow binary is optimized to use available CPU instructions in performance-critical operations.\n",
      "To enable the following instructions: AVX2 FMA, in other operations, rebuild TensorFlow with the appropriate compiler flags.\n",
      "2024-08-08 16:42:41.880138: W tensorflow/compiler/tf2tensorrt/utils/py_utils.cc:38] TF-TRT Warning: Could not find TensorRT\n",
      "/usr/lib/python3/dist-packages/scipy/__init__.py:146: UserWarning: A NumPy version >=1.17.3 and <1.25.0 is required for this version of SciPy (detected version 1.26.4\n",
      "  warnings.warn(f\"A NumPy version >={np_minversion} and <{np_maxversion}\"\n"
     ]
    },
    {
     "name": "stdout",
     "output_type": "stream",
     "text": [
      "Training data shape: (477384, 128)\n",
      "Testing data shape: (119347, 128)\n"
     ]
    },
    {
     "name": "stderr",
     "output_type": "stream",
     "text": [
      "WARNING: All log messages before absl::InitializeLog() is called are written to STDERR\n",
      "I0000 00:00:1723160563.471292 1291249 cuda_executor.cc:1001] could not open file to read NUMA node: /sys/bus/pci/devices/0000:01:00.0/numa_node\n",
      "Your kernel may have been built without NUMA support.\n",
      "I0000 00:00:1723160563.503141 1291249 cuda_executor.cc:1001] could not open file to read NUMA node: /sys/bus/pci/devices/0000:01:00.0/numa_node\n",
      "Your kernel may have been built without NUMA support.\n",
      "I0000 00:00:1723160563.503272 1291249 cuda_executor.cc:1001] could not open file to read NUMA node: /sys/bus/pci/devices/0000:01:00.0/numa_node\n",
      "Your kernel may have been built without NUMA support.\n",
      "I0000 00:00:1723160563.505635 1291249 cuda_executor.cc:1001] could not open file to read NUMA node: /sys/bus/pci/devices/0000:01:00.0/numa_node\n",
      "Your kernel may have been built without NUMA support.\n",
      "I0000 00:00:1723160563.505714 1291249 cuda_executor.cc:1001] could not open file to read NUMA node: /sys/bus/pci/devices/0000:01:00.0/numa_node\n",
      "Your kernel may have been built without NUMA support.\n",
      "I0000 00:00:1723160563.505751 1291249 cuda_executor.cc:1001] could not open file to read NUMA node: /sys/bus/pci/devices/0000:01:00.0/numa_node\n",
      "Your kernel may have been built without NUMA support.\n",
      "I0000 00:00:1723160563.710886 1291249 cuda_executor.cc:1001] could not open file to read NUMA node: /sys/bus/pci/devices/0000:01:00.0/numa_node\n",
      "Your kernel may have been built without NUMA support.\n",
      "I0000 00:00:1723160563.710978 1291249 cuda_executor.cc:1001] could not open file to read NUMA node: /sys/bus/pci/devices/0000:01:00.0/numa_node\n",
      "Your kernel may have been built without NUMA support.\n",
      "2024-08-08 16:42:43.710990: I tensorflow/core/common_runtime/gpu/gpu_device.cc:2112] Could not identify NUMA node of platform GPU id 0, defaulting to 0.  Your kernel may not have been built with NUMA support.\n",
      "I0000 00:00:1723160563.711050 1291249 cuda_executor.cc:1001] could not open file to read NUMA node: /sys/bus/pci/devices/0000:01:00.0/numa_node\n",
      "Your kernel may have been built without NUMA support.\n",
      "2024-08-08 16:42:43.711077: I tensorflow/core/common_runtime/gpu/gpu_device.cc:2021] Created device /job:localhost/replica:0/task:0/device:GPU:0 with 9517 MB memory:  -> device: 0, name: NVIDIA GeForce RTX 4070 SUPER, pci bus id: 0000:01:00.0, compute capability: 8.9\n"
     ]
    },
    {
     "name": "stdout",
     "output_type": "stream",
     "text": [
      "Epoch 1/10\n"
     ]
    },
    {
     "name": "stderr",
     "output_type": "stream",
     "text": [
      "WARNING: All log messages before absl::InitializeLog() is called are written to STDERR\n",
      "I0000 00:00:1723160564.966877 1291445 service.cc:146] XLA service 0x7fb3b000a130 initialized for platform CUDA (this does not guarantee that XLA will be used). Devices:\n",
      "I0000 00:00:1723160564.966939 1291445 service.cc:154]   StreamExecutor device (0): NVIDIA GeForce RTX 4070 SUPER, Compute Capability 8.9\n",
      "2024-08-08 16:42:44.984545: I tensorflow/compiler/mlir/tensorflow/utils/dump_mlir_util.cc:268] disabling MLIR crash reproducer, set env var `MLIR_CRASH_REPRODUCER_DIRECTORY` to enable.\n",
      "2024-08-08 16:42:45.066200: I external/local_xla/xla/stream_executor/cuda/cuda_dnn.cc:531] Loaded cuDNN version 8907\n"
     ]
    },
    {
     "name": "stdout",
     "output_type": "stream",
     "text": [
      "\u001b[1m  75/3730\u001b[0m \u001b[37m━━━━━━━━━━━━━━━━━━━━\u001b[0m \u001b[1m7s\u001b[0m 2ms/step - accuracy: 0.3491 - loss: 1999.9781  "
     ]
    },
    {
     "name": "stderr",
     "output_type": "stream",
     "text": [
      "I0000 00:00:1723160566.223434 1291445 device_compiler.h:188] Compiled cluster using XLA!  This line is logged at most once for the lifetime of the process.\n"
     ]
    },
    {
     "name": "stdout",
     "output_type": "stream",
     "text": [
      "\u001b[1m3730/3730\u001b[0m \u001b[32m━━━━━━━━━━━━━━━━━━━━\u001b[0m\u001b[37m\u001b[0m \u001b[1m14s\u001b[0m 3ms/step - accuracy: 0.7460 - loss: 163.5358 - val_accuracy: 0.8481 - val_loss: 15.0192\n",
      "Epoch 2/10\n",
      "\u001b[1m3730/3730\u001b[0m \u001b[32m━━━━━━━━━━━━━━━━━━━━\u001b[0m\u001b[37m\u001b[0m \u001b[1m11s\u001b[0m 3ms/step - accuracy: 0.8490 - loss: 14.9786 - val_accuracy: 0.8788 - val_loss: 8.1410\n",
      "Epoch 3/10\n",
      "\u001b[1m3730/3730\u001b[0m \u001b[32m━━━━━━━━━━━━━━━━━━━━\u001b[0m\u001b[37m\u001b[0m \u001b[1m11s\u001b[0m 3ms/step - accuracy: 0.8670 - loss: 8.6008 - val_accuracy: 0.8787 - val_loss: 5.2029\n",
      "Epoch 4/10\n",
      "\u001b[1m3730/3730\u001b[0m \u001b[32m━━━━━━━━━━━━━━━━━━━━\u001b[0m\u001b[37m\u001b[0m \u001b[1m11s\u001b[0m 3ms/step - accuracy: 0.8764 - loss: 5.0569 - val_accuracy: 0.8876 - val_loss: 2.2817\n",
      "Epoch 5/10\n",
      "\u001b[1m3730/3730\u001b[0m \u001b[32m━━━━━━━━━━━━━━━━━━━━\u001b[0m\u001b[37m\u001b[0m \u001b[1m11s\u001b[0m 3ms/step - accuracy: 0.8774 - loss: 2.7922 - val_accuracy: 0.8532 - val_loss: 1.7532\n",
      "Epoch 6/10\n",
      "\u001b[1m3730/3730\u001b[0m \u001b[32m━━━━━━━━━━━━━━━━━━━━\u001b[0m\u001b[37m\u001b[0m \u001b[1m11s\u001b[0m 3ms/step - accuracy: 0.8780 - loss: 1.0364 - val_accuracy: 0.8658 - val_loss: 0.4493\n",
      "Epoch 7/10\n",
      "\u001b[1m3730/3730\u001b[0m \u001b[32m━━━━━━━━━━━━━━━━━━━━\u001b[0m\u001b[37m\u001b[0m \u001b[1m11s\u001b[0m 3ms/step - accuracy: 0.8720 - loss: 0.3732 - val_accuracy: 0.8723 - val_loss: 0.3558\n",
      "Epoch 8/10\n",
      "\u001b[1m3730/3730\u001b[0m \u001b[32m━━━━━━━━━━━━━━━━━━━━\u001b[0m\u001b[37m\u001b[0m \u001b[1m11s\u001b[0m 3ms/step - accuracy: 0.8691 - loss: 0.3772 - val_accuracy: 0.8498 - val_loss: 0.4209\n",
      "Epoch 9/10\n",
      "\u001b[1m3730/3730\u001b[0m \u001b[32m━━━━━━━━━━━━━━━━━━━━\u001b[0m\u001b[37m\u001b[0m \u001b[1m11s\u001b[0m 3ms/step - accuracy: 0.8726 - loss: 0.3581 - val_accuracy: 0.8947 - val_loss: 0.3088\n",
      "Epoch 10/10\n",
      "\u001b[1m3730/3730\u001b[0m \u001b[32m━━━━━━━━━━━━━━━━━━━━\u001b[0m\u001b[37m\u001b[0m \u001b[1m11s\u001b[0m 3ms/step - accuracy: 0.8785 - loss: 0.3428 - val_accuracy: 0.9021 - val_loss: 0.2621\n"
     ]
    },
    {
     "data": {
      "text/plain": [
       "<keras.src.callbacks.history.History at 0x7fb453f40a30>"
      ]
     },
     "execution_count": 4,
     "metadata": {},
     "output_type": "execute_result"
    }
   ],
   "source": [
    "import tensorflow as tf\n",
    "from keras.models import Sequential\n",
    "from keras.layers import Dense, Flatten, Input\n",
    "from sklearn.model_selection import train_test_split\n",
    "\n",
    "# Create labels\n",
    "colombian_labels = np.full(colombian_input.shape[0], 0, dtype=np.int32)\n",
    "kenya_labels = np.full(kenya_input.shape[0], 1, dtype=np.int32)\n",
    "peru_labels = np.full(peru_input.shape[0], 2, dtype=np.int32)\n",
    "sumatra_labels = np.full(sumatra_input.shape[0], 3, dtype=np.int32)\n",
    "tabi_labels = np.full(tabi_input.shape[0], 4, dtype=np.int32)\n",
    "roasted_labels = np.full(roasted_input.shape[0], 5, dtype=np.int32)\n",
    "\n",
    "def squeeze_data(data):\n",
    "    # Remove dimensions of size 1\n",
    "    return np.squeeze(data, axis=1)\n",
    "\n",
    "# Apply squeezing to each tensor\n",
    "colombian_input = squeeze_data(colombian_input)\n",
    "kenya_input = squeeze_data(kenya_input)\n",
    "peru_input = squeeze_data(peru_input)\n",
    "sumatra_input = squeeze_data(sumatra_input)\n",
    "tabi_input = squeeze_data(tabi_input)\n",
    "roasted_input = squeeze_data(roasted_input)\n",
    "\n",
    "# Combine the squeezed data\n",
    "all_inputs = np.concatenate([colombian_input, kenya_input, peru_input, sumatra_input, tabi_input, roasted_input], axis=0)\n",
    "all_labels = np.concatenate([colombian_labels, kenya_labels, peru_labels, sumatra_labels, tabi_labels, roasted_labels], axis=0)\n",
    "\n",
    "# Split into training and testing sets\n",
    "X_train, X_test, y_train, y_test = train_test_split(all_inputs, all_labels, test_size=0.2, random_state=42)\n",
    "\n",
    "print(f\"Training data shape: {X_train.shape}\")\n",
    "print(f\"Testing data shape: {X_test.shape}\")\n",
    "\n",
    "# Define the Keras model\n",
    "input_shape = (64 * 2,)  # Assuming real and imaginary parts are concatenated\n",
    "model = Sequential([\n",
    "    Input(shape=input_shape),\n",
    "    Dense(32, activation='relu'),\n",
    "    Dense(6, activation='softmax')  # don't forget to change this to the number of classes\n",
    "])\n",
    "\n",
    "model.compile(optimizer='adam', loss='sparse_categorical_crossentropy', metrics=['accuracy'])\n",
    "\n",
    "# Train the model\n",
    "model.fit(X_train, y_train, epochs=10, batch_size=128, validation_data=(X_test, y_test))"
   ]
  },
  {
   "cell_type": "code",
   "execution_count": 5,
   "metadata": {},
   "outputs": [
    {
     "name": "stdout",
     "output_type": "stream",
     "text": [
      "\u001b[1m3730/3730\u001b[0m \u001b[32m━━━━━━━━━━━━━━━━━━━━\u001b[0m\u001b[37m\u001b[0m \u001b[1m6s\u001b[0m 2ms/step\n"
     ]
    },
    {
     "data": {
      "image/png": "[encoded data removed]",
      "text/plain": [
       "<Figure size 720x504 with 2 Axes>"
      ]
     },
     "metadata": {
      "needs_background": "light"
     },
     "output_type": "display_data"
    }
   ],
   "source": [
    "from sklearn.metrics import confusion_matrix\n",
    "import matplotlib.pyplot as plt\n",
    "import seaborn as sns\n",
    "\n",
    "# Make predictions on the test set\n",
    "y_pred = np.argmax(model.predict(X_test), axis=-1)\n",
    "\n",
    "# Compute confusion matrix\n",
    "cm = confusion_matrix(y_test, y_pred)\n",
    "\n",
    "def plot_confusion_matrix(cm, class_names):\n",
    "    plt.figure(figsize=(10, 7))\n",
    "    sns.heatmap(cm, annot=True, fmt='d', cmap='Blues', xticklabels=class_names, yticklabels=class_names)\n",
    "    plt.xlabel('Predicted Label')\n",
    "    plt.ylabel('True Label')\n",
    "    plt.title('Confusion Matrix')\n",
    "    plt.show()\n",
    "\n",
    "# Define class names based on your dataset\n",
    "class_names = ['Colombia', 'Kenya', 'Peru', 'Sumatra', 'Tabi', 'Mystery']\n",
    "\n",
    "# Plot confusion matrix\n",
    "plot_confusion_matrix(cm, class_names)"
   ]
  },
  {
   "cell_type": "code",
   "execution_count": 6,
   "metadata": {},
   "outputs": [],
   "source": [
    "model.save(\"classifier_coffee_3.keras\")"
   ]
  },
  {
   "cell_type": "code",
   "execution_count": 7,
   "metadata": {},
   "outputs": [
    {
     "name": "stdout",
     "output_type": "stream",
     "text": [
      "Model loaded\n",
      "\u001b[1m33/33\u001b[0m \u001b[32m━━━━━━━━━━━━━━━━━━━━\u001b[0m\u001b[37m\u001b[0m \u001b[1m0s\u001b[0m 9ms/step\n",
      "[0 0 0 ... 0 0 0]\n"
     ]
    },
    {
     "data": {
      "image/png": "[encoded data removed]",
      "text/plain": [
       "<Figure size 432x288 with 1 Axes>"
      ]
     },
     "metadata": {
      "needs_background": "light"
     },
     "output_type": "display_data"
    }
   ],
   "source": [
    "import numpy as np\n",
    "import tensorflow as tf\n",
    "from keras.models import load_model\n",
    "import seaborn as sns\n",
    "import h5py\n",
    "\n",
    "dataset_path = 'session/group_0/entry_0/result/frame'\n",
    "\n",
    "# Define preprocessing functions\n",
    "def extract_tensor_from_h5(file_path, dataset_path):\n",
    "    \"\"\"\n",
    "    Extracts a tensor from an H5 file and checks for non-numerical data.\n",
    "\n",
    "    Parameters:\n",
    "    - file_path: str, path to the H5 file\n",
    "    - dataset_path: str, path to the dataset within the H5 file\n",
    "\n",
    "    Returns:\n",
    "    - tensor: numpy.ndarray, the extracted tensor if purely numerical\n",
    "    \"\"\"\n",
    "    with h5py.File(file_path, 'r') as h5file:\n",
    "        if dataset_path in h5file:\n",
    "            dataset = h5file[dataset_path]\n",
    "            tensor = np.array(dataset)\n",
    "\n",
    "            return tensor\n",
    "        else:\n",
    "            raise KeyError(f\"Dataset {dataset_path} not found in the file {file_path}\")\n",
    "\n",
    "def preprocess_data(complex_tensor):\n",
    "    real_part = complex_tensor.real.astype(np.float32)\n",
    "    imag_part = complex_tensor.imag.astype(np.float32)\n",
    "    combined_input = np.concatenate([real_part, imag_part], axis=-1)\n",
    "    return combined_input\n",
    "\n",
    "def load_and_convert_tensor(file_path, dataset_path):\n",
    "    tensor = extract_tensor_from_h5(file_path, dataset_path)\n",
    "    complex_tensor = tensor['real'] + 1j * tensor['imag']\n",
    "    return complex_tensor\n",
    "\n",
    "def squeeze_data(data):\n",
    "    # Remove dimensions of size 1\n",
    "    return np.squeeze(data, axis=1)\n",
    "\n",
    "# Load and preprocess new data\n",
    "new_data_tensor = load_and_convert_tensor(\"sumatra_sample.h5\", dataset_path)\n",
    "new_data_input = preprocess_data(new_data_tensor)\n",
    "new_data_input = squeeze_data(new_data_input)\n",
    "\n",
    "# Load the saved model\n",
    "model = load_model('classifier_coffee_3.keras')\n",
    "print(\"Model loaded\")\n",
    "\n",
    "# Make predictions\n",
    "predictions = model.predict(new_data_input)\n",
    "predicted_classes = np.argmax(predictions, axis=-1)\n",
    "\n",
    "# Print predictions\n",
    "sns.histplot(predicted_classes, discrete=True)\n",
    "print(predicted_classes)"
   ]
  },
  {
   "cell_type": "code",
   "execution_count": 8,
   "metadata": {},
   "outputs": [
    {
     "name": "stdout",
     "output_type": "stream",
     "text": [
      "Model loaded\n",
      "\u001b[1m32/32\u001b[0m \u001b[32m━━━━━━━━━━━━━━━━━━━━\u001b[0m\u001b[37m\u001b[0m \u001b[1m0s\u001b[0m 6ms/step\n",
      "[0 0 0 ... 0 0 0]\n"
     ]
    },
    {
     "data": {
      "image/png": "[encoded data removed]",
      "text/plain": [
       "<Figure size 432x288 with 1 Axes>"
      ]
     },
     "metadata": {
      "needs_background": "light"
     },
     "output_type": "display_data"
    }
   ],
   "source": [
    "import numpy as np\n",
    "import tensorflow as tf\n",
    "from keras.models import load_model\n",
    "import seaborn as sns\n",
    "import h5py\n",
    "\n",
    "dataset_path = 'session/group_0/entry_0/result/frame'\n",
    "\n",
    "# Define preprocessing functions\n",
    "def extract_tensor_from_h5(file_path, dataset_path):\n",
    "    \"\"\"\n",
    "    Extracts a tensor from an H5 file and checks for non-numerical data.\n",
    "\n",
    "    Parameters:\n",
    "    - file_path: str, path to the H5 file\n",
    "    - dataset_path: str, path to the dataset within the H5 file\n",
    "\n",
    "    Returns:\n",
    "    - tensor: numpy.ndarray, the extracted tensor if purely numerical\n",
    "    \"\"\"\n",
    "    with h5py.File(file_path, 'r') as h5file:\n",
    "        if dataset_path in h5file:\n",
    "            dataset = h5file[dataset_path]\n",
    "            tensor = np.array(dataset)\n",
    "\n",
    "            return tensor\n",
    "        else:\n",
    "            raise KeyError(f\"Dataset {dataset_path} not found in the file {file_path}\")\n",
    "\n",
    "def preprocess_data(complex_tensor):\n",
    "    real_part = complex_tensor.real.astype(np.float32)\n",
    "    imag_part = complex_tensor.imag.astype(np.float32)\n",
    "    combined_input = np.concatenate([real_part, imag_part], axis=-1)\n",
    "    return combined_input\n",
    "\n",
    "def load_and_convert_tensor(file_path, dataset_path):\n",
    "    tensor = extract_tensor_from_h5(file_path, dataset_path)\n",
    "    complex_tensor = tensor['real'] + 1j * tensor['imag']\n",
    "    return complex_tensor\n",
    "\n",
    "def squeeze_data(data):\n",
    "    # Remove dimensions of size 1\n",
    "    return np.squeeze(data, axis=1)\n",
    "\n",
    "# Load and preprocess new data\n",
    "new_data_tensor = load_and_convert_tensor(\"peru_sample.h5\", dataset_path)\n",
    "new_data_input = preprocess_data(new_data_tensor)\n",
    "new_data_input = squeeze_data(new_data_input)\n",
    "\n",
    "# Load the saved model\n",
    "model = load_model('classifier_coffee_3.keras')\n",
    "print(\"Model loaded\")\n",
    "\n",
    "# Make predictions\n",
    "predictions = model.predict(new_data_input)\n",
    "predicted_classes = np.argmax(predictions, axis=-1)\n",
    "\n",
    "# Print predictions\n",
    "sns.histplot(predicted_classes, discrete=True)\n",
    "print(predicted_classes)"
   ]
  },
  {
   "cell_type": "code",
   "execution_count": 9,
   "metadata": {},
   "outputs": [
    {
     "name": "stdout",
     "output_type": "stream",
     "text": [
      "Model loaded\n",
      "\u001b[1m32/32\u001b[0m \u001b[32m━━━━━━━━━━━━━━━━━━━━\u001b[0m\u001b[37m\u001b[0m \u001b[1m0s\u001b[0m 10ms/step\n",
      "[0 0 0 ... 0 0 0]\n"
     ]
    },
    {
     "data": {
      "image/png": "[encoded data removed]",
      "text/plain": [
       "<Figure size 432x288 with 1 Axes>"
      ]
     },
     "metadata": {
      "needs_background": "light"
     },
     "output_type": "display_data"
    }
   ],
   "source": [
    "import numpy as np\n",
    "import tensorflow as tf\n",
    "from keras.models import load_model\n",
    "import seaborn as sns\n",
    "import h5py\n",
    "\n",
    "dataset_path = 'session/group_0/entry_0/result/frame'\n",
    "\n",
    "# Define preprocessing functions\n",
    "def extract_tensor_from_h5(file_path, dataset_path):\n",
    "    \"\"\"\n",
    "    Extracts a tensor from an H5 file and checks for non-numerical data.\n",
    "\n",
    "    Parameters:\n",
    "    - file_path: str, path to the H5 file\n",
    "    - dataset_path: str, path to the dataset within the H5 file\n",
    "\n",
    "    Returns:\n",
    "    - tensor: numpy.ndarray, the extracted tensor if purely numerical\n",
    "    \"\"\"\n",
    "    with h5py.File(file_path, 'r') as h5file:\n",
    "        if dataset_path in h5file:\n",
    "            dataset = h5file[dataset_path]\n",
    "            tensor = np.array(dataset)\n",
    "\n",
    "            return tensor\n",
    "        else:\n",
    "            raise KeyError(f\"Dataset {dataset_path} not found in the file {file_path}\")\n",
    "\n",
    "def preprocess_data(complex_tensor):\n",
    "    real_part = complex_tensor.real.astype(np.float32)\n",
    "    imag_part = complex_tensor.imag.astype(np.float32)\n",
    "    combined_input = np.concatenate([real_part, imag_part], axis=-1)\n",
    "    return combined_input\n",
    "\n",
    "def load_and_convert_tensor(file_path, dataset_path):\n",
    "    tensor = extract_tensor_from_h5(file_path, dataset_path)\n",
    "    complex_tensor = tensor['real'] + 1j * tensor['imag']\n",
    "    return complex_tensor\n",
    "\n",
    "def squeeze_data(data):\n",
    "    # Remove dimensions of size 1\n",
    "    return np.squeeze(data, axis=1)\n",
    "\n",
    "# Load and preprocess new data\n",
    "new_data_tensor = load_and_convert_tensor(\"colombia_sample.h5\", dataset_path)\n",
    "new_data_input = preprocess_data(new_data_tensor)\n",
    "new_data_input = squeeze_data(new_data_input)\n",
    "\n",
    "# Load the saved model\n",
    "model = load_model('classifier_coffee_3.keras')\n",
    "print(\"Model loaded\")\n",
    "\n",
    "# Make predictions\n",
    "predictions = model.predict(new_data_input)\n",
    "predicted_classes = np.argmax(predictions, axis=-1)\n",
    "\n",
    "# Print predictions\n",
    "sns.histplot(predicted_classes, discrete=True)\n",
    "print(predicted_classes)"
   ]
  }
 ],
 "metadata": {
  "kernelspec": {
   "display_name": "Python 3",
   "language": "python",
   "name": "python3"
  },
  "language_info": {
   "codemirror_mode": {
    "name": "ipython",
    "version": 3
   },
   "file_extension": ".py",
   "mimetype": "text/x-python",
   "name": "python",
   "nbconvert_exporter": "python",
   "pygments_lexer": "ipython3",
   "version": "3.10.12"
  }
 },
 "nbformat": 4,
 "nbformat_minor": 2
}
